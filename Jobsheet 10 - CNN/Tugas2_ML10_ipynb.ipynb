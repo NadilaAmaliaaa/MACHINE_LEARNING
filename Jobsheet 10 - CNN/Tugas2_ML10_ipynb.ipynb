{
  "nbformat": 4,
  "nbformat_minor": 0,
  "metadata": {
    "colab": {
      "provenance": [],
      "gpuType": "V28",
      "include_colab_link": true
    },
    "kernelspec": {
      "name": "python3",
      "display_name": "Python 3"
    },
    "language_info": {
      "name": "python"
    },
    "accelerator": "TPU"
  },
  "cells": [
    {
      "cell_type": "markdown",
      "metadata": {
        "id": "view-in-github",
        "colab_type": "text"
      },
      "source": [
        "<a href=\"https://colab.research.google.com/github/NadilaAmaliaaa/MACHINE_LEARNING/blob/main/Jobsheet%2010%20-%20CNN/Tugas2_ML10_ipynb.ipynb\" target=\"_parent\"><img src=\"https://colab.research.google.com/assets/colab-badge.svg\" alt=\"Open In Colab\"/></a>"
      ]
    },
    {
      "cell_type": "code",
      "execution_count": null,
      "metadata": {
        "id": "c_WKPeMcOVIO"
      },
      "outputs": [],
      "source": [
        "import tensorflow as tf\n",
        "from tensorflow.keras import datasets, layers, models\n",
        "from tensorflow.keras.preprocessing.image import ImageDataGenerator\n",
        "from tensorflow.keras.callbacks import EarlyStopping, ReduceLROnPlateau\n",
        "from keras.utils import to_categorical\n",
        "import matplotlib.pyplot as plt\n",
        "import numpy as np"
      ]
    },
    {
      "cell_type": "code",
      "source": [
        "with np.load('/content/mnist.npz') as data:\n",
        "    x_train = data['x_train']\n",
        "    y_train = data['y_train']\n",
        "    x_test = data['x_test']\n",
        "    y_test = data['y_test']"
      ],
      "metadata": {
        "id": "OFIQbWOSRA2P"
      },
      "execution_count": null,
      "outputs": []
    },
    {
      "cell_type": "code",
      "source": [
        "# Pra-pemrosesan data\n",
        "x_train = x_train.astype('float32') / 255.0\n",
        "x_test = x_test.astype('float32') / 255.0\n",
        "x_train = np.expand_dims(x_train, axis=-1)  # Menambah dimensi untuk channel (grayscale)\n",
        "x_test = np.expand_dims(x_test, axis=-1)  # Menambah dimensi untuk channel (grayscale)\n",
        "\n",
        "# Mengubah label ke bentuk one-hot encoding\n",
        "y_train = tf.keras.utils.to_categorical(y_train, num_classes=10)\n",
        "y_test = tf.keras.utils.to_categorical(y_test, num_classes=10)"
      ],
      "metadata": {
        "id": "zB9WvPR0SLU5"
      },
      "execution_count": null,
      "outputs": []
    },
    {
      "cell_type": "code",
      "source": [
        "train_datagen = ImageDataGenerator(rescale = 1/.255,\n",
        "                                   shear_range = 0.2,\n",
        "                                   zoom_range = 0.2,\n",
        "                                   horizontal_flip = True)\n",
        "training_set = train_datagen.flow(x_train,\n",
        "                                  y_train,\n",
        "                                  batch_size=32)"
      ],
      "metadata": {
        "id": "ReJTrUU4UOac"
      },
      "execution_count": null,
      "outputs": []
    },
    {
      "cell_type": "code",
      "source": [
        "test_datagen = ImageDataGenerator(rescale = 1/.255)\n",
        "test_set = test_datagen.flow(x_test,\n",
        "                             y_test,\n",
        "                             batch_size=32)"
      ],
      "metadata": {
        "id": "gZe4E4VjTYm0"
      },
      "execution_count": null,
      "outputs": []
    },
    {
      "cell_type": "code",
      "source": [
        "cnn = tf.keras.models.Sequential()\n",
        "\n",
        "cnn.add(layers.Conv2D(32, (3,3), activation='relu', input_shape=(28,28,1)))\n",
        "cnn.add(layers.MaxPooling2D(2,2))\n",
        "cnn.add(layers.Conv2D(64, (3,3), activation='relu'))\n",
        "cnn.add(layers.MaxPooling2D(2,2))\n",
        "cnn.add(layers.Conv2D(128, (3,3), activation='relu'))\n",
        "\n",
        "cnn.add(layers.Flatten())\n",
        "cnn.add(layers.Dense(128, activation='relu'))\n",
        "cnn.add(layers.Dense(10, activation='softmax'))\n",
        "\n",
        "cnn.compile(optimizer='adam',\n",
        "            loss=tf.keras.losses.CategoricalCrossentropy(),\n",
        "            metrics=['accuracy'])\n",
        "\n",
        "reduce_lr = ReduceLROnPlateau(monitor='val_loss', factor=0.2, patience=2, min_lr=1e-6, verbose=1)\n",
        "early_stopping = EarlyStopping(monitor='val_loss', patience=3, verbose=1)\n",
        "\n",
        "history = cnn.fit(\n",
        "    training_set,\n",
        "    epochs = 50,\n",
        "    validation_data=test_set,\n",
        "    callbacks=[reduce_lr,early_stopping])"
      ],
      "metadata": {
        "colab": {
          "base_uri": "https://localhost:8080/"
        },
        "id": "nQg_U7FHUQNR",
        "outputId": "9300d262-4353-44f6-a46c-169295a760b0"
      },
      "execution_count": null,
      "outputs": [
        {
          "output_type": "stream",
          "name": "stdout",
          "text": [
            "Epoch 1/50\n",
            "1875/1875 [==============================] - 25s 13ms/step - loss: 0.2156 - accuracy: 0.9312 - val_loss: 0.0711 - val_accuracy: 0.9764 - lr: 0.0010\n",
            "Epoch 2/50\n",
            "1875/1875 [==============================] - 24s 13ms/step - loss: 0.0839 - accuracy: 0.9743 - val_loss: 0.0672 - val_accuracy: 0.9782 - lr: 0.0010\n",
            "Epoch 3/50\n",
            "1875/1875 [==============================] - 24s 13ms/step - loss: 0.0659 - accuracy: 0.9790 - val_loss: 0.0411 - val_accuracy: 0.9870 - lr: 0.0010\n",
            "Epoch 4/50\n",
            "1875/1875 [==============================] - 24s 13ms/step - loss: 0.0558 - accuracy: 0.9821 - val_loss: 0.0374 - val_accuracy: 0.9886 - lr: 0.0010\n",
            "Epoch 5/50\n",
            "1875/1875 [==============================] - 24s 13ms/step - loss: 0.0520 - accuracy: 0.9837 - val_loss: 0.0414 - val_accuracy: 0.9869 - lr: 0.0010\n",
            "Epoch 6/50\n",
            "1873/1875 [============================>.] - ETA: 0s - loss: 0.0457 - accuracy: 0.9855\n",
            "Epoch 6: ReduceLROnPlateau reducing learning rate to 0.00020000000949949026.\n",
            "1875/1875 [==============================] - 24s 13ms/step - loss: 0.0457 - accuracy: 0.9855 - val_loss: 0.0635 - val_accuracy: 0.9809 - lr: 0.0010\n",
            "Epoch 7/50\n",
            "1875/1875 [==============================] - 24s 13ms/step - loss: 0.0269 - accuracy: 0.9915 - val_loss: 0.0244 - val_accuracy: 0.9925 - lr: 2.0000e-04\n",
            "Epoch 8/50\n",
            "1875/1875 [==============================] - 24s 13ms/step - loss: 0.0225 - accuracy: 0.9931 - val_loss: 0.0240 - val_accuracy: 0.9924 - lr: 2.0000e-04\n",
            "Epoch 9/50\n",
            "1875/1875 [==============================] - 24s 13ms/step - loss: 0.0185 - accuracy: 0.9944 - val_loss: 0.0259 - val_accuracy: 0.9924 - lr: 2.0000e-04\n",
            "Epoch 10/50\n",
            "1871/1875 [============================>.] - ETA: 0s - loss: 0.0180 - accuracy: 0.9944\n",
            "Epoch 10: ReduceLROnPlateau reducing learning rate to 4.0000001899898055e-05.\n",
            "1875/1875 [==============================] - 23s 12ms/step - loss: 0.0179 - accuracy: 0.9944 - val_loss: 0.0278 - val_accuracy: 0.9917 - lr: 2.0000e-04\n",
            "Epoch 11/50\n",
            "1875/1875 [==============================] - 23s 12ms/step - loss: 0.0131 - accuracy: 0.9959 - val_loss: 0.0273 - val_accuracy: 0.9930 - lr: 4.0000e-05\n",
            "Epoch 11: early stopping\n"
          ]
        }
      ]
    },
    {
      "cell_type": "code",
      "source": [
        "# Plot akurasi pelatihan dan validasi\n",
        "plt.figure(figsize=(10, 6))\n",
        "plt.plot(history.history['accuracy'], label='Akurasi Pelatihan')\n",
        "plt.plot(history.history['val_accuracy'], label='Akurasi Validasi')\n",
        "plt.xlabel('Epoch')\n",
        "plt.ylabel('Akurasi')\n",
        "plt.ylim([0.5, 1])  # Mengatur batas Y\n",
        "plt.title('Akurasi Model Selama Pelatihan')\n",
        "plt.legend(loc='lower right')\n",
        "plt.grid()\n",
        "plt.show()\n",
        "\n",
        "# Evaluasi model pada data uji\n",
        "test_loss, test_acc = cnn.evaluate(x_test, y_test, verbose=2)\n",
        "\n",
        "# Menampilkan hasil evaluasi\n",
        "print(f'\\nLoss pada data uji: {test_loss:.4f}')\n",
        "print(f'Akurasi pada data uji: {test_acc:.4f}')"
      ],
      "metadata": {
        "id": "1eghO_WLY-Xr",
        "outputId": "d48a9642-f941-4cc7-f06d-1995ea42c3eb",
        "colab": {
          "base_uri": "https://localhost:8080/",
          "height": 519
        }
      },
      "execution_count": null,
      "outputs": [
        {
          "output_type": "display_data",
          "data": {
            "text/plain": [
              "<Figure size 1000x600 with 1 Axes>"
            ],
            "image/png": "[encoded data removed]"
          },
          "metadata": {}
        },
        {
          "output_type": "stream",
          "name": "stdout",
          "text": [
            "313/313 - 1s - loss: 0.1766 - accuracy: 0.9875 - 1s/epoch - 3ms/step\n",
            "\n",
            "Loss pada data uji: 0.1766\n",
            "Akurasi pada data uji: 0.9875\n"
          ]
        }
      ]
    }
  ]
}